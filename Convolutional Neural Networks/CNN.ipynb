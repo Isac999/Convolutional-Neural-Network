{
 "cells": [
  {
   "cell_type": "code",
   "execution_count": 1,
   "id": "fa3d3f48",
   "metadata": {},
   "outputs": [
    {
     "name": "stdout",
     "output_type": "stream",
     "text": [
      "C:\\Users\\isacc\\Desktop\\Convolutional Neural Networks\\dataset\n",
      "C:\\Users\\isacc\\Desktop\\Convolutional Neural Networks\\dataset\\train\n",
      " C:\\Users\\isacc\\Desktop\\Convolutional Neural Networks\\dataset\\test\n"
     ]
    }
   ],
   "source": [
    "import os\n",
    "\n",
    "path = os.path.abspath(os.getcwd())\n",
    "path = path + '\\\\dataset'\n",
    "\n",
    "print(path)\n",
    "\n",
    "train_folder = path + '\\\\train'\n",
    "test_folder = path + '\\\\test'\n",
    "\n",
    "print(train_folder+'\\n',test_folder)"
   ]
  },
  {
   "cell_type": "code",
   "execution_count": 8,
   "id": "6a0fb8f8",
   "metadata": {},
   "outputs": [
    {
     "name": "stdout",
     "output_type": "stream",
     "text": [
      "Version: 2.8.0\n",
      "Found 11671 files belonging to 2 classes.\n",
      "Found 5000 files belonging to 2 classes.\n"
     ]
    }
   ],
   "source": [
    "import tensorflow\n",
    "from tensorflow.keras.utils import image_dataset_from_directory\n",
    "\n",
    "print('Version: %s' % (tensorflow.__version__))\n",
    "train_dataset = image_dataset_from_directory(train_folder,\n",
    "                                             image_size=(128, 128),\n",
    "                                             batch_size=32)\n",
    "test_dataset = image_dataset_from_directory(test_folder,\n",
    "                                            image_size=(128, 128),\n",
    "                                            batch_size=32)"
   ]
  },
  {
   "cell_type": "code",
   "execution_count": 26,
   "id": "662d225b",
   "metadata": {},
   "outputs": [],
   "source": [
    "from tensorflow import keras\n",
    "from tensorflow.keras.layers import Conv2D, MaxPooling2D, Flatten, Dense\n",
    "from tensorflow.keras.layers.experimental.preprocessing import Rescaling\n",
    "\n",
    "\n",
    "model = keras.Sequential()\n",
    "model.add(Rescaling(scale=1.0/255))\n",
    "model.add(Conv2D(32, kernel_size=(3, 3), activation='relu'))\n",
    "model.add(MaxPooling2D(pool_size=(2, 2)))\n",
    "model.add(Conv2D(64, kernel_size=(2,2), activation='relu'))\n",
    "model.add(Flatten())\n",
    "model.add(Dense(1, activation='sigmoid'))\n",
    "\n",
    "\n",
    "model.compile(loss='binary_crossentropy', \n",
    "              optimizer='adam', \n",
    "              metrics=['accuracy'])"
   ]
  },
  {
   "cell_type": "code",
   "execution_count": 7,
   "id": "c1519bd3",
   "metadata": {
    "scrolled": true
   },
   "outputs": [
    {
     "name": "stderr",
     "output_type": "stream",
     "text": [
      "100%|████████████████████████████████████████████████████████████| 2500/2500 [00:04<00:00, 542.55it/s]\n",
      "100%|████████████████████████████████████████████████████████████| 2500/2500 [00:04<00:00, 575.74it/s]\n",
      "100%|████████████████████████████████████████████████████████████| 5836/5836 [00:10<00:00, 557.09it/s]\n",
      "100%|████████████████████████████████████████████████████████████| 5836/5836 [00:12<00:00, 479.23it/s]"
     ]
    },
    {
     "name": "stdout",
     "output_type": "stream",
     "text": [
      "0:0:0:1\n",
      "['healthy (5438).jpg']\n"
     ]
    },
    {
     "name": "stderr",
     "output_type": "stream",
     "text": [
      "\n"
     ]
    }
   ],
   "source": [
    "from struct import unpack\n",
    "from tqdm import tqdm\n",
    "import os\n",
    "\n",
    "folder_test_rust = path + '\\\\test\\\\rust\\\\'\n",
    "folder_test_healthy = path + '\\\\test\\\\healthy'\n",
    "folder_train_rust = path + '\\\\train\\\\rust'\n",
    "folder_train_healthy = path + '\\\\train\\\\healthy'\n",
    "\n",
    "for diretorio, subpastas, arquivos in os.walk(folder_test_rust):\n",
    "    list_test_rust = arquivos\n",
    "for diretorio, subpastas, arquivos in os.walk(folder_test_healthy):\n",
    "    list_test_healthy = arquivos\n",
    "for diretorio, subpastas, arquivos in os.walk(folder_train_rust):\n",
    "    list_train_rust = arquivos\n",
    "for diretorio, subpastar, arquivos in os.walk(folder_train_healthy):\n",
    "    list_train_healthy = arquivos\n",
    "    \n",
    "marker_mapping = {\n",
    "    0xffd8: \"Start of Image\",\n",
    "    0xffe0: \"Application Default Header\",\n",
    "    0xffdb: \"Quantization Table\",\n",
    "    0xffc0: \"Start of Frame\",\n",
    "    0xffc4: \"Define Huffman Table\",\n",
    "    0xffda: \"Start of Scan\",\n",
    "    0xffd9: \"End of Image\"\n",
    "}\n",
    "\n",
    "class JPEG:\n",
    "    def __init__(self, image_file):\n",
    "        with open(image_file, 'rb') as f:\n",
    "            self.img_data = f.read()\n",
    "    \n",
    "    def decode(self):\n",
    "        data = self.img_data\n",
    "        while(True):\n",
    "            marker, = unpack(\">H\", data[0:2])\n",
    "            # print(marker_mapping.get(marker))\n",
    "            if marker == 0xffd8:\n",
    "                data = data[2:]\n",
    "            elif marker == 0xffd9:\n",
    "                return\n",
    "            elif marker == 0xffda:\n",
    "                data = data[-2:]\n",
    "            else:\n",
    "                lenchunk, = unpack(\">H\", data[2:4])\n",
    "                data = data[2+lenchunk:]            \n",
    "            if len(data)==0:\n",
    "                break        \n",
    "\n",
    "bad_test_rust = []\n",
    "bad_test_healthy = []\n",
    "bad_train_rust = []\n",
    "bad_train_healthy = []\n",
    "\n",
    "for img in tqdm(list_test_rust):\n",
    "  image = os.path.join(folder_test_rust, img)\n",
    "  image = JPEG(image) \n",
    "  try:\n",
    "    image.decode()   \n",
    "  except:\n",
    "    bad_test_rust.append(img)\n",
    "    \n",
    "for img in tqdm(list_test_healthy):\n",
    "  image = os.path.join(folder_test_healthy, img)\n",
    "  image = JPEG(image) \n",
    "  try:\n",
    "    image.decode()   \n",
    "  except:\n",
    "    bad_test_healthy.append(img)\n",
    "\n",
    "for img in tqdm(list_train_rust):\n",
    "  image = os.path.join(folder_train_rust, img)\n",
    "  image = JPEG(image) \n",
    "  try:\n",
    "    image.decode()   \n",
    "  except:\n",
    "    bad_train_rust.append(img)\n",
    "\n",
    "for img in tqdm(list_train_healthy):\n",
    "  image = os.path.join(folder_train_healthy, img)\n",
    "  image = JPEG(image) \n",
    "  try:\n",
    "    image.decode()   \n",
    "  except:\n",
    "    bad_train_healthy.append(img)\n",
    "\n",
    "print('{}:{}:{}:{}'.format(len(bad_test_rust), len(bad_test_healthy), len(bad_train_rust), len(bad_train_healthy)))\n",
    "print(bad_train_healthy)\n",
    "\n",
    "for name in bad_train_healthy:\n",
    "  os.remove(os.path.join(folder_train_healthy, name))\n"
   ]
  },
  {
   "cell_type": "code",
   "execution_count": 10,
   "id": "bd735f01",
   "metadata": {
    "scrolled": false
   },
   "outputs": [
    {
     "name": "stdout",
     "output_type": "stream",
     "text": [
      "Epoch 1/10\n",
      "365/365 [==============================] - 4115s 11s/step - loss: 0.0276 - accuracy: 0.9907 - val_loss: 1.1290e-06 - val_accuracy: 1.0000\n",
      "Epoch 2/10\n",
      "365/365 [==============================] - 4731s 13s/step - loss: 6.0622e-07 - accuracy: 1.0000 - val_loss: 1.8251e-07 - val_accuracy: 1.0000\n",
      "Epoch 3/10\n",
      "365/365 [==============================] - 4144s 11s/step - loss: 1.3707e-07 - accuracy: 1.0000 - val_loss: 1.2014e-07 - val_accuracy: 1.0000\n",
      "Epoch 4/10\n",
      "365/365 [==============================] - 4135s 11s/step - loss: 9.5943e-08 - accuracy: 1.0000 - val_loss: 8.7092e-08 - val_accuracy: 1.0000\n",
      "Epoch 5/10\n",
      "365/365 [==============================] - 4133s 11s/step - loss: 7.1625e-08 - accuracy: 1.0000 - val_loss: 6.6299e-08 - val_accuracy: 1.0000\n",
      "Epoch 6/10\n",
      "365/365 [==============================] - 4103s 11s/step - loss: 5.6000e-08 - accuracy: 1.0000 - val_loss: 5.2796e-08 - val_accuracy: 1.0000\n",
      "Epoch 7/10\n",
      "365/365 [==============================] - 4165s 11s/step - loss: 4.5083e-08 - accuracy: 1.0000 - val_loss: 4.3067e-08 - val_accuracy: 1.0000\n",
      "Epoch 8/10\n",
      "365/365 [==============================] - 4148s 11s/step - loss: 3.7482e-08 - accuracy: 1.0000 - val_loss: 3.7256e-08 - val_accuracy: 1.0000\n",
      "Epoch 9/10\n",
      "365/365 [==============================] - 4160s 11s/step - loss: 3.3630e-08 - accuracy: 1.0000 - val_loss: 3.3685e-08 - val_accuracy: 1.0000\n",
      "Epoch 10/10\n",
      "365/365 [==============================] - 4456s 12s/step - loss: 3.0915e-08 - accuracy: 1.0000 - val_loss: 3.2690e-08 - val_accuracy: 1.0000\n"
     ]
    }
   ],
   "source": [
    "from tensorflow.keras.callbacks import ModelCheckpoint\n",
    "\n",
    "callbacks = [ModelCheckpoint(\n",
    "    filepath='model1.keras',\n",
    "    save_best_only=True,\n",
    "    monitor='val_loss'\n",
    ")]\n",
    "\n",
    "history = model.fit(\n",
    "    train_dataset,\n",
    "    epochs=10,\n",
    "    validation_data=test_dataset,\n",
    "    callbacks=callbacks\n",
    ")"
   ]
  },
  {
   "cell_type": "code",
   "execution_count": 15,
   "id": "bf680ac7",
   "metadata": {},
   "outputs": [
    {
     "name": "stdout",
     "output_type": "stream",
     "text": [
      "Model: \"sequential_1\"\n",
      "_________________________________________________________________\n",
      " Layer (type)                Output Shape              Param #   \n",
      "=================================================================\n",
      " rescaling_1 (Rescaling)     (None, 128, 128, 3)       0         \n",
      "                                                                 \n",
      " conv2d_2 (Conv2D)           (None, 126, 126, 32)      896       \n",
      "                                                                 \n",
      " max_pooling2d_1 (MaxPooling  (None, 63, 63, 32)       0         \n",
      " 2D)                                                             \n",
      "                                                                 \n",
      " conv2d_3 (Conv2D)           (None, 62, 62, 64)        8256      \n",
      "                                                                 \n",
      " flatten_1 (Flatten)         (None, 246016)            0         \n",
      "                                                                 \n",
      " dense_1 (Dense)             (None, 1)                 246017    \n",
      "                                                                 \n",
      "=================================================================\n",
      "Total params: 255,169\n",
      "Trainable params: 255,169\n",
      "Non-trainable params: 0\n",
      "_________________________________________________________________\n"
     ]
    }
   ],
   "source": [
    "model.summary()"
   ]
  },
  {
   "cell_type": "code",
   "execution_count": 32,
   "id": "713f7cd7",
   "metadata": {},
   "outputs": [
    {
     "name": "stdout",
     "output_type": "stream",
     "text": [
      "dict_keys(['loss', 'accuracy', 'val_loss', 'val_accuracy'])\n"
     ]
    }
   ],
   "source": [
    "accuracy = history.history[\"accuracy\"]\n",
    "val_accuracy = history.history[\"val_accuracy\"]\n",
    "loss = history.history[\"loss\"]\n",
    "val_loss = history.history[\"val_loss\"]\n",
    "epochs = range(1, len(accuracy) + 1)\n",
    "\n",
    "print(history.history.keys())"
   ]
  },
  {
   "cell_type": "code",
   "execution_count": 36,
   "id": "d8e5e224",
   "metadata": {
    "scrolled": true
   },
   "outputs": [
    {
     "data": {
      "text/plain": [
       "<Figure size 432x288 with 0 Axes>"
      ]
     },
     "execution_count": 36,
     "metadata": {},
     "output_type": "execute_result"
    },
    {
     "data": {
      "image/png": "[encoded data removed]",
      "text/plain": [
       "<Figure size 432x288 with 1 Axes>"
      ]
     },
     "metadata": {
      "needs_background": "light"
     },
     "output_type": "display_data"
    },
    {
     "data": {
      "text/plain": [
       "<Figure size 432x288 with 0 Axes>"
      ]
     },
     "metadata": {},
     "output_type": "display_data"
    }
   ],
   "source": [
    "import matplotlib.pyplot as plt\n",
    "\n",
    "plt.plot(epochs, accuracy, \"r\", label=\"Treino acc\")\n",
    "plt.plot(epochs, val_accuracy, \"b\", label=\"Val acc\")\n",
    "plt.xlabel(\"Épocas\")\n",
    "plt.ylabel(\"%s\")\n",
    "plt.title(\"Acurácia de Treino e Validação\")\n",
    "plt.legend()\n",
    "plt.figure()"
   ]
  },
  {
   "cell_type": "code",
   "execution_count": 34,
   "id": "b0497c21",
   "metadata": {},
   "outputs": [
    {
     "data": {
      "image/png": "[encoded data removed]",
      "text/plain": [
       "<Figure size 432x288 with 1 Axes>"
      ]
     },
     "metadata": {
      "needs_background": "light"
     },
     "output_type": "display_data"
    }
   ],
   "source": [
    "plt.plot(epochs, loss, \"r\", label=\"Treino loss\")\n",
    "plt.plot(epochs, val_loss, \"b\", label=\"Val loss\")\n",
    "plt.xlabel(\"Épocas\")\n",
    "plt.ylabel(\"%s\")\n",
    "plt.title(\"Loss de Treino e Validação\")\n",
    "plt.legend()\n",
    "plt.show()"
   ]
  },
  {
   "cell_type": "code",
   "execution_count": 5,
   "id": "a5551bbc",
   "metadata": {
    "scrolled": true
   },
   "outputs": [
    {
     "name": "stdout",
     "output_type": "stream",
     "text": [
      "Predict: healthy --- healthy (1).jpg --- 0.00\n",
      "Predict: healthy --- healthy (2).jpg --- 0.00\n",
      "Predict: healthy --- healthy (3).jpg --- 0.00\n",
      "Predict: healthy --- healthy (4).jpg --- 0.00\n",
      "Predict: healthy --- healthy (5).jpg --- 0.00\n",
      "Predict: healthy --- healthy (6).jpg --- 0.00\n",
      "Predict: healthy --- healthy (7).jpg --- 0.00\n",
      "Predict: rust --- rust (1).jpg --- 1.00\n",
      "Predict: rust --- rust (2).jpg --- 1.00\n",
      "Predict: rust --- rust (3).jpg --- 1.00\n",
      "Predict: rust --- rust (4).jpg --- 1.00\n",
      "Predict: healthy --- rust (5).png --- 0.00\n",
      "Predict: rust --- rust (6).jpg --- 1.00\n",
      "Predict: rust --- rust (7).webp --- 1.00\n",
      "Predict: rust --- teste.jpg --- 1.00\n",
      "Predict: rust --- teste2.jpg --- 1.00\n",
      "Predict: healthy --- teste3.jpg --- 0.00\n"
     ]
    }
   ],
   "source": [
    "from PIL import Image\n",
    "import numpy as np\n",
    "from tensorflow import keras\n",
    "from keras.preprocessing import image\n",
    "import os\n",
    "\n",
    "def img(path, size, model_name):\n",
    "    \n",
    "    model = keras.models.load_model(model_name)\n",
    "    size = size\n",
    "\n",
    "    for d, sd, a in os.walk(path):\n",
    "        list_names = a        \n",
    "    for name in list_names:\n",
    "        img = Image.open(path + '\\\\' + name)\n",
    "        img = img.resize(size)\n",
    "        x = image.img_to_array(img)\n",
    "        x = np.expand_dims(x, axis=0)\n",
    "        pred = (model.predict(x) > 0.5).astype('int32')[0][0]\n",
    "        if pred > 0.5:\n",
    "            print('Predict: rust --- %s --- %.2f' % (name, pred))\n",
    "        else: \n",
    "            print('Predict: healthy --- %s --- %.2f' % (name, pred))\n",
    "            \n",
    "validation_folder = os.path.abspath(os.getcwd()) \n",
    "validation_folder = validation_folder + '.\\\\validation'\n",
    "\n",
    "img(validation_folder, (128, 128), \"model1.keras\")"
   ]
  }
 ],
 "metadata": {
  "kernelspec": {
   "display_name": "Python 3 (ipykernel)",
   "language": "python",
   "name": "python3"
  },
  "language_info": {
   "codemirror_mode": {
    "name": "ipython",
    "version": 3
   },
   "file_extension": ".py",
   "mimetype": "text/x-python",
   "name": "python",
   "nbconvert_exporter": "python",
   "pygments_lexer": "ipython3",
   "version": "3.9.7"
  }
 },
 "nbformat": 4,
 "nbformat_minor": 5
}
